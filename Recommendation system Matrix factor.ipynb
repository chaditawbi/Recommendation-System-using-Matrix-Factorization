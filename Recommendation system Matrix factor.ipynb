{
 "cells": [
  {
   "cell_type": "code",
   "execution_count": 1,
   "metadata": {},
   "outputs": [],
   "source": [
    "import numpy as np\n",
    "import pandas as pd"
   ]
  },
  {
   "cell_type": "code",
   "execution_count": 2,
   "metadata": {},
   "outputs": [],
   "source": [
    "ratings_df = pd.read_csv('ml-latest-small/ratings.csv')"
   ]
  },
  {
   "cell_type": "code",
   "execution_count": 3,
   "metadata": {},
   "outputs": [
    {
     "data": {
      "text/html": [
       "<div>\n",
       "<style scoped>\n",
       "    .dataframe tbody tr th:only-of-type {\n",
       "        vertical-align: middle;\n",
       "    }\n",
       "\n",
       "    .dataframe tbody tr th {\n",
       "        vertical-align: top;\n",
       "    }\n",
       "\n",
       "    .dataframe thead th {\n",
       "        text-align: right;\n",
       "    }\n",
       "</style>\n",
       "<table border=\"1\" class=\"dataframe\">\n",
       "  <thead>\n",
       "    <tr style=\"text-align: right;\">\n",
       "      <th></th>\n",
       "      <th>userId</th>\n",
       "      <th>movieId</th>\n",
       "      <th>rating</th>\n",
       "      <th>timestamp</th>\n",
       "    </tr>\n",
       "  </thead>\n",
       "  <tbody>\n",
       "    <tr>\n",
       "      <th>0</th>\n",
       "      <td>1</td>\n",
       "      <td>1</td>\n",
       "      <td>4.0</td>\n",
       "      <td>964982703</td>\n",
       "    </tr>\n",
       "    <tr>\n",
       "      <th>1</th>\n",
       "      <td>1</td>\n",
       "      <td>3</td>\n",
       "      <td>4.0</td>\n",
       "      <td>964981247</td>\n",
       "    </tr>\n",
       "    <tr>\n",
       "      <th>2</th>\n",
       "      <td>1</td>\n",
       "      <td>6</td>\n",
       "      <td>4.0</td>\n",
       "      <td>964982224</td>\n",
       "    </tr>\n",
       "    <tr>\n",
       "      <th>3</th>\n",
       "      <td>1</td>\n",
       "      <td>47</td>\n",
       "      <td>5.0</td>\n",
       "      <td>964983815</td>\n",
       "    </tr>\n",
       "    <tr>\n",
       "      <th>4</th>\n",
       "      <td>1</td>\n",
       "      <td>50</td>\n",
       "      <td>5.0</td>\n",
       "      <td>964982931</td>\n",
       "    </tr>\n",
       "    <tr>\n",
       "      <th>...</th>\n",
       "      <td>...</td>\n",
       "      <td>...</td>\n",
       "      <td>...</td>\n",
       "      <td>...</td>\n",
       "    </tr>\n",
       "    <tr>\n",
       "      <th>100831</th>\n",
       "      <td>610</td>\n",
       "      <td>166534</td>\n",
       "      <td>4.0</td>\n",
       "      <td>1493848402</td>\n",
       "    </tr>\n",
       "    <tr>\n",
       "      <th>100832</th>\n",
       "      <td>610</td>\n",
       "      <td>168248</td>\n",
       "      <td>5.0</td>\n",
       "      <td>1493850091</td>\n",
       "    </tr>\n",
       "    <tr>\n",
       "      <th>100833</th>\n",
       "      <td>610</td>\n",
       "      <td>168250</td>\n",
       "      <td>5.0</td>\n",
       "      <td>1494273047</td>\n",
       "    </tr>\n",
       "    <tr>\n",
       "      <th>100834</th>\n",
       "      <td>610</td>\n",
       "      <td>168252</td>\n",
       "      <td>5.0</td>\n",
       "      <td>1493846352</td>\n",
       "    </tr>\n",
       "    <tr>\n",
       "      <th>100835</th>\n",
       "      <td>610</td>\n",
       "      <td>170875</td>\n",
       "      <td>3.0</td>\n",
       "      <td>1493846415</td>\n",
       "    </tr>\n",
       "  </tbody>\n",
       "</table>\n",
       "<p>100836 rows × 4 columns</p>\n",
       "</div>"
      ],
      "text/plain": [
       "        userId  movieId  rating   timestamp\n",
       "0            1        1     4.0   964982703\n",
       "1            1        3     4.0   964981247\n",
       "2            1        6     4.0   964982224\n",
       "3            1       47     5.0   964983815\n",
       "4            1       50     5.0   964982931\n",
       "...        ...      ...     ...         ...\n",
       "100831     610   166534     4.0  1493848402\n",
       "100832     610   168248     5.0  1493850091\n",
       "100833     610   168250     5.0  1494273047\n",
       "100834     610   168252     5.0  1493846352\n",
       "100835     610   170875     3.0  1493846415\n",
       "\n",
       "[100836 rows x 4 columns]"
      ]
     },
     "execution_count": 3,
     "metadata": {},
     "output_type": "execute_result"
    }
   ],
   "source": [
    "ratings_df"
   ]
  },
  {
   "cell_type": "code",
   "execution_count": 4,
   "metadata": {},
   "outputs": [],
   "source": [
    "num_users = ratings_df['userId'].nunique()\n",
    "num_items = ratings_df['movieId'].nunique()"
   ]
  },
  {
   "cell_type": "code",
   "execution_count": 5,
   "metadata": {},
   "outputs": [],
   "source": [
    "user_ids = sorted(ratings_df['userId'].unique())\n",
    "movie_ids = sorted(ratings_df['movieId'].unique())"
   ]
  },
  {
   "cell_type": "code",
   "execution_count": 6,
   "metadata": {},
   "outputs": [],
   "source": [
    "user_map = {user_id: index for index, user_id in enumerate(user_ids)}\n",
    "movie_map = {movie_id: index for index, movie_id in enumerate(movie_ids)}"
   ]
  },
  {
   "cell_type": "code",
   "execution_count": 7,
   "metadata": {},
   "outputs": [],
   "source": [
    "R = np.zeros((num_users, num_items))\n",
    "for _, row in ratings_df.iterrows():\n",
    "    i, j = user_map[row['userId']], movie_map[row['movieId']]\n",
    "    R[i, j] = row['rating']"
   ]
  },
  {
   "cell_type": "code",
   "execution_count": 8,
   "metadata": {},
   "outputs": [],
   "source": [
    "class MatrixFactorization:\n",
    "    def __init__(self, R, K, alpha, beta, iterations):\n",
    "        \n",
    "        # The input user-item interaction matrix\n",
    "        self.R = R\n",
    "        # The dimensions of the interaction matrix\n",
    "        self.num_users, self.num_items = R.shape\n",
    "        # The number of latent factors\n",
    "        self.K = K\n",
    "        # The learning rate for stochastic gradient descent\n",
    "        self.alpha = alpha\n",
    "        # The regularization parameter\n",
    "        self.beta = beta\n",
    "        # The number of iterations for the optimization\n",
    "        self.iterations = iterations\n",
    "\n",
    "    def train(self):\n",
    "        # Initialize the user and item factor matrices with random normal values\n",
    "        self.P = np.random.normal(scale=1./self.K, size=(self.num_users, self.K))\n",
    "        self.Q = np.random.normal(scale=1./self.K, size=(self.num_items, self.K))\n",
    "        \n",
    "        # Initialize the user bias vector\n",
    "        self.b_u = np.zeros(self.num_users)\n",
    "        # Initialize the item bias vector\n",
    "        self.b_i = np.zeros(self.num_items)\n",
    "        # Compute the global bias\n",
    "        self.b = np.mean(self.R[np.where(self.R != 0)])\n",
    "        \n",
    "        # Create a list of samples with non-zero entries in the interaction matrix\n",
    "        self.samples = [\n",
    "            (i, j, self.R[i, j])\n",
    "            for i in range(self.num_users)\n",
    "            for j in range(self.num_items)\n",
    "            if self.R[i, j] > 0\n",
    "        ]\n",
    "        # Run stochastic gradient descent for the specified number of iterations\n",
    "        for _ in range(self.iterations):\n",
    "            # Randomly shuffle the samples\n",
    "            np.random.shuffle(self.samples)\n",
    "            self.sgd()\n",
    "\n",
    "        return self.P,self.Q\n",
    "    \n",
    "    def sgd(self):\n",
    "        # Update the biases and factors for each sample using stochastic gradient descent\n",
    "        for i, j, r in self.samples:\n",
    "            prediction = self.get_rating(i, j)\n",
    "            error = r - prediction\n",
    "            #print(i,j,r)\n",
    "            self.b_u[i] += self.alpha * (error - self.beta * self.b_u[i])\n",
    "            self.b_i[j] += self.alpha * (error - self.beta * self.b_i[j])\n",
    "\n",
    "            self.P[i, :] += self.alpha * (error * self.Q[j, :] - self.beta * self.P[i, :])\n",
    "            self.Q[j, :] += self.alpha * (error * self.P[i, :] - self.beta * self.Q[j, :])\n",
    "\n",
    "    def get_rating(self, i, j):\n",
    "        # Compute the predicted rating for user i and item j\n",
    "        return self.b + self.b_u[i] + self.b_i[j] + self.P[i, :].dot(self.Q[j, :].T)\n",
    "\n",
    "    def full_matrix(self):\n",
    "        # Compute the full matrix of predicted ratings\n",
    "        return self.b + self.b_u[:, np.newaxis] + self.b_i[np.newaxis, :] + self.P.dot(self.Q.T)\n",
    "    \n",
    "    def cosine_similarity(self,u, v):\n",
    "        # Compute the dot product between the two vectors\n",
    "        dot_product = np.dot(u, v)\n",
    "        # Compute the L2-norm of each vector\n",
    "        norm_u = np.linalg.norm(u)\n",
    "        norm_v = np.linalg.norm(v)\n",
    "        # Compute the cosine similarity\n",
    "        cosine_sim = dot_product / (norm_u * norm_v)\n",
    "        return cosine_sim\n",
    "\n",
    "\n",
    "    def recommend_movies(self, movie_title, titles, titles_inv, movie_map, item_factors, top_n=10):\n",
    "        if movie_title not in titles:\n",
    "            print(f\"{movie_title} not found in the dataset.\")\n",
    "            return None\n",
    "        # Get the index of the movie in the item factors matrix\n",
    "        matched_index = titles[movie_title]\n",
    "        # Calculate the cosine similarity between the movie and all other movies\n",
    "        similarity = np.array([self.cosine_similarity(item_factors[matched_index], item_factors[i]) for i in range(len(item_factors))])\n",
    "        # Get the indices of the top_n most similar movies, excluding the movie itself\n",
    "        top_indices = np.argsort(similarity)[-top_n-1:-1][::-1]\n",
    "        # Map the indices back to movie titles using the titles_inv dictionary\n",
    "        recommended_movies = [(similarity[idx], titles_inv[idx]) for idx in top_indices]\n",
    "        return recommended_movies"
   ]
  },
  {
   "cell_type": "code",
   "execution_count": 9,
   "metadata": {},
   "outputs": [
    {
     "name": "stdout",
     "output_type": "stream",
     "text": [
      "Predicted ratings:\n",
      " [[4.48391122 4.04404174 3.91814034 ... 4.10115401 4.12607125 4.43846034]\n",
      " [3.92673642 3.43896772 3.82671967 ... 3.50496807 3.49030529 3.84859282]\n",
      " [2.46162867 2.43985346 1.56232356 ... 2.15576088 2.11369958 2.51314095]\n",
      " ...\n",
      " [3.23100904 2.96727804 2.51719639 ... 3.24391457 3.28548367 3.55326045]\n",
      " [3.49547222 3.2149266  3.0219905  ... 3.19573297 3.19654437 3.55387188]\n",
      " [4.25585909 3.50594819 3.51275385 ... 3.6735029  3.67097726 4.14510355]]\n"
     ]
    }
   ],
   "source": [
    "mf = MatrixFactorization(R, K=20, alpha=0.01, beta=0.1, iterations=500)\n",
    "P,Q = mf.train()\n",
    "predictions=mf.full_matrix()\n",
    "print(\"Predicted ratings:\\n\", predictions)"
   ]
  },
  {
   "cell_type": "code",
   "execution_count": 10,
   "metadata": {},
   "outputs": [],
   "source": [
    "def load_movie_titles(movie_map):\n",
    "    # Load the movies dataframe\n",
    "    movies_df = pd.read_csv('ml-latest-small/movies.csv')\n",
    "    # Create a mapping from movie titles to indices and vice versa\n",
    "    titles = {}\n",
    "    titles_inv = {}\n",
    "    for _, row in movies_df.iterrows():\n",
    "        movie_id, title = row['movieId'], row['title']\n",
    "        if movie_id in movie_map:\n",
    "            index = movie_map[movie_id]\n",
    "            titles[title] = index\n",
    "            titles_inv[index] = title\n",
    "    return titles, titles_inv\n",
    "\n",
    "def print_top10(recommended_movies):\n",
    "    if recommended_movies is not None:\n",
    "        print(f\"Top recommendations for {movie_title}:\")\n",
    "        for i, (similarity, title) in enumerate(recommended_movies, start=1):\n",
    "            print(f\"{i}. {title} (similarity: {similarity:.4f})\")\n",
    "    else:\n",
    "        print(f\"No recommendations found for '{movie_title}'.\")\n"
   ]
  },
  {
   "cell_type": "code",
   "execution_count": 11,
   "metadata": {
    "scrolled": true
   },
   "outputs": [],
   "source": [
    "# Create a mapping from movie titles to their corresponding movie vectors in the item factor matrix\n",
    "movie_map = {movie_id: index for index, movie_id in enumerate(movie_ids)}\n",
    "\n",
    "# Load movie titles\n",
    "titles, titles_inv = load_movie_titles(movie_map)\n",
    "\n",
    "# Get movie recommendations for a given movie title\n",
    "item_factors = mf.Q"
   ]
  },
  {
   "cell_type": "code",
   "execution_count": 12,
   "metadata": {},
   "outputs": [],
   "source": [
    "# All movie titles\n",
    "#print(titles)"
   ]
  },
  {
   "cell_type": "code",
   "execution_count": 13,
   "metadata": {},
   "outputs": [
    {
     "name": "stdout",
     "output_type": "stream",
     "text": [
      "True\n",
      "Top recommendations for The Lego Movie (2014):\n",
      "1. The Night Is Short, Walk on Girl (2017) (similarity: 0.7197)\n",
      "2. Logan (2017) (similarity: 0.7069)\n",
      "3. Hell in the Pacific (1968) (similarity: 0.6925)\n",
      "4. Dead Alive (Braindead) (1992) (similarity: 0.6755)\n",
      "5. Mother (1996) (similarity: 0.6723)\n",
      "6. Silver Spoon (2014) (similarity: 0.6687)\n",
      "7. Fight Club (1999) (similarity: 0.6638)\n",
      "8. Dudley Do-Right (1999) (similarity: 0.6446)\n",
      "9. Twelve Tasks of Asterix, The (Les douze travaux d'Astérix) (1976) (similarity: 0.6435)\n",
      "10. Memento (2000) (similarity: 0.6393)\n"
     ]
    }
   ],
   "source": [
    "# Choose a movie Title here. Format: 'Title ({release date})'\n",
    "movie_title = 'The Lego Movie (2014)'\n",
    "print(movie_title in titles)\n",
    "recommended_movies = mf.recommend_movies(movie_title, titles, titles_inv, movie_map, item_factors, top_n=10)\n",
    "print_top10(recommended_movies)"
   ]
  },
  {
   "cell_type": "markdown",
   "metadata": {},
   "source": [
    "# GUI to input a movie title for top 10 recommendations"
   ]
  },
  {
   "cell_type": "code",
   "execution_count": null,
   "metadata": {},
   "outputs": [],
   "source": [
    "import tkinter as tk\n",
    "from tkinter import ttk\n",
    "from ttkthemes import ThemedTk\n",
    "\n",
    "def on_recommend_button_click():\n",
    "    movie_title = entry.get()\n",
    "    recommended_movies = mf.recommend_movies(movie_title, titles, titles_inv, movie_map, item_factors, top_n=10)\n",
    "    result_text.delete(1.0, tk.END)\n",
    "    if recommended_movies is not None:\n",
    "        result_text.insert(tk.END, f\"Top recommendations for {movie_title}:\\n\")\n",
    "        for i, (similarity, title) in enumerate(recommended_movies, start=1):\n",
    "            result_text.insert(tk.END, f\"{i}. {title} (similarity: {similarity:.4f})\\n\")\n",
    "    else:\n",
    "        result_text.insert(tk.END, f\"No recommendations found for '{movie_title}'.\\n\")\n",
    "\n",
    "root = ThemedTk(theme=\"arc\")\n",
    "root.title(\"Movie Recommendation System\")\n",
    "\n",
    "mainframe = ttk.Frame(root, padding=\"30 30 30 30\")\n",
    "mainframe.grid(row=0, column=0, sticky=(tk.W, tk.E, tk.N, tk.S))\n",
    "root.columnconfigure(0, weight=1)\n",
    "root.rowconfigure(0, weight=1)\n",
    "\n",
    "label = ttk.Label(mainframe, text=\"Enter a movie title:\")\n",
    "label.grid(row=0, column=0, sticky=tk.W, pady=10)\n",
    "\n",
    "entry = ttk.Entry(mainframe, width=50)\n",
    "entry.grid(row=1, column=0, sticky=(tk.W, tk.E), pady=10)\n",
    "\n",
    "button = ttk.Button(mainframe, text=\"Recommend\", command=on_recommend_button_click)\n",
    "button.grid(row=2, column=0, sticky=tk.W, pady=10)\n",
    "\n",
    "result_text = tk.Text(mainframe, wrap=tk.WORD, width=50, height=12, relief=tk.SUNKEN, borderwidth=1)\n",
    "result_text.grid(row=3, column=0, sticky=(tk.W, tk.E), pady=10)\n",
    "\n",
    "entry.focus()\n",
    "root.mainloop()"
   ]
  },
  {
   "cell_type": "code",
   "execution_count": null,
   "metadata": {},
   "outputs": [],
   "source": []
  }
 ],
 "metadata": {
  "kernelspec": {
   "display_name": "Python 3",
   "language": "python",
   "name": "python3"
  },
  "language_info": {
   "codemirror_mode": {
    "name": "ipython",
    "version": 3
   },
   "file_extension": ".py",
   "mimetype": "text/x-python",
   "name": "python",
   "nbconvert_exporter": "python",
   "pygments_lexer": "ipython3",
   "version": "3.8.3"
  }
 },
 "nbformat": 4,
 "nbformat_minor": 4
}
